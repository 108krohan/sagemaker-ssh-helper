{
 "cells": [
  {
   "cell_type": "markdown",
   "metadata": {},
   "source": [
    "# Amazon SageMaker Studio + SSH + IDE Integration"
   ]
  },
  {
   "cell_type": "markdown",
   "metadata": {},
   "source": [
    "Run this notebook every time when you start a new SageMaker Studio App."
   ]
  },
  {
   "cell_type": "markdown",
   "metadata": {},
   "source": [
    "## Environment & SSM Setup"
   ]
  },
  {
   "cell_type": "markdown",
   "metadata": {},
   "source": [
    "Run the next cell to get the Kernel Gateway App name, which you will need later to connect to the SageMaker Studio from your local machine. You can find it in the resource metadata file under the key `ResourceName`. Usually, it's the same as the kernel hostname."
   ]
  },
  {
   "cell_type": "code",
   "execution_count": null,
   "metadata": {},
   "outputs": [],
   "source": [
    "%%sh\n",
    "hostname\n",
    "cat /opt/ml/metadata/resource-metadata.json"
   ]
  },
  {
   "cell_type": "markdown",
   "metadata": {},
   "source": [
    "Next, update pip and install SageMaker SSH Helper library into the kernel app."
   ]
  },
  {
   "cell_type": "code",
   "execution_count": null,
   "metadata": {},
   "outputs": [],
   "source": [
    "%%sh\n",
    "pip install -U pip\n",
    "pip install --root-user-action ignore -q ."
   ]
  },
  {
   "cell_type": "markdown",
   "metadata": {},
   "source": [
    "The `configure` command will install the software for remote access, including SSH daemon and VNC server and XFCE4 desktop."
   ]
  },
  {
   "cell_type": "code",
   "execution_count": null,
   "metadata": {},
   "outputs": [],
   "source": [
    "%%sh\n",
    "sm-ssh-ide configure"
   ]
  },
  {
   "cell_type": "markdown",
   "metadata": {},
   "source": [
    "Specify JetBrains License Server host name in `JB_LICENSE_SERVER_HOST` variable. Leave it as is if you don't use one, e.g. use PyCharm Community or VS Code, or already configured one from another kernel app (the value will be shared between apps).\n",
    "\n",
    "Please, make sure you've configured the same value on your local machine (see the script `sm-local-ssh-ide`)."
   ]
  },
  {
   "cell_type": "code",
   "execution_count": null,
   "metadata": {},
   "outputs": [],
   "source": [
    "%%sh\n",
    "JB_LICENSE_SERVER_HOST=\"jetbrains-license-server.example.com\"  # replace with your JetBrains License Server host name\n",
    "\n",
    "sm-ssh-ide set-jb-license-server \"$JB_LICENSE_SERVER_HOST\""
   ]
  },
  {
   "cell_type": "markdown",
   "metadata": {},
   "source": [
    "Now choose your VNC password. It's safe to leave it as is, because your connection will be already secured with SSH and SSM. You need some password, because some VNC clients do not allow passwordless connections.\n",
    "\n",
    "If you already configured password from another kernel app, this cell will take no effect (the encrypted password file will be shared between apps)."
   ]
  },
  {
   "cell_type": "code",
   "execution_count": null,
   "metadata": {},
   "outputs": [],
   "source": [
    "%%sh\n",
    "VNC_PASSWORD=\"123456\"  # replace with your password\n",
    "\n",
    "sm-ssh-ide set-vnc-password \"$VNC_PASSWORD\""
   ]
  },
  {
   "cell_type": "markdown",
   "metadata": {
    "tags": []
   },
   "source": [
    "In the next cell you need to put your local user id as the parameter to `init-ssm`. It will help to tag the managed instance with your id as the owner. You can find the id by running locally `aws sts get-caller-identity` command as the value of the returned `UserId`.\n",
    "\n",
    "If you already configured the id from another kernel app, leave the value as is (it will be loaded from the shared configuration file automatically)."
   ]
  },
  {
   "cell_type": "code",
   "execution_count": null,
   "metadata": {},
   "outputs": [],
   "source": [
    "%%sh\n",
    "LOCAL_USER_ID=\"AIDACKCEVSQ6C2EXAMPLE\"  # replace with your local UserId\n",
    "\n",
    "sm-ssh-ide init-ssm \"$LOCAL_USER_ID\""
   ]
  },
  {
   "cell_type": "markdown",
   "metadata": {},
   "source": [
    "## Run SSM Agent & Services"
   ]
  },
  {
   "cell_type": "markdown",
   "metadata": {},
   "source": [
    "The `start` command will run the background applications for remote access – SSH daemon, VNC server and Jupyter notebook. The `stop` command helps with cleanup from previous runs (see the next section)."
   ]
  },
  {
   "cell_type": "code",
   "execution_count": null,
   "metadata": {},
   "outputs": [],
   "source": [
    "%%sh\n",
    "sm-ssh-ide stop\n",
    "sm-ssh-ide start"
   ]
  },
  {
   "cell_type": "markdown",
   "metadata": {},
   "source": [
    "Now execute `ssm-agent` command and keep it running (do not stop the kernel). To validate that the SageMaker Studio app has connected to SSM, go to the Systems Manager Console > Fleet Manager and check that a new managed node appeared in the list and got the \"SSM Agent ping status\" as Online."
   ]
  },
  {
   "cell_type": "code",
   "execution_count": null,
   "metadata": {},
   "outputs": [],
   "source": [
    "%%sh\n",
    "sm-ssh-ide ssm-agent"
   ]
  },
  {
   "cell_type": "markdown",
   "metadata": {},
   "source": [
    "The above cell will run SSM Agent Daemon infinitely until it stopped.\n",
    "\n",
    "At this point, complete the instructions for your local machine described in [README.md](README.md#studio).\n",
    "\n",
    "To stop the Agent, interrupt the kernel."
   ]
  },
  {
   "cell_type": "markdown",
   "metadata": {},
   "source": [
    "## Stop SSM Agent & Services"
   ]
  },
  {
   "cell_type": "markdown",
   "metadata": {},
   "source": [
    "Execute `stop` command to gracefully shut down the SSM Agent Daemon, SSH tunnel, port forwarding and other services.\n",
    "It's useful when you want to restart the services. If you don't call this command before calling `start` again, you will get a message *Already running on this instance? Call stop first.*"
   ]
  },
  {
   "cell_type": "code",
   "execution_count": null,
   "metadata": {
    "tags": []
   },
   "outputs": [],
   "source": [
    "%%sh\n",
    "sm-ssh-ide stop"
   ]
  }
 ],
 "metadata": {
  "instance_type": "ml.m5.large",
  "kernelspec": {
   "display_name": "Python 3 (Data Science)",
   "language": "python",
   "name": "python3__SAGEMAKER_INTERNAL__arn:aws:sagemaker:eu-west-1:470317259841:image/datascience-1.0"
  },
  "language_info": {
   "codemirror_mode": {
    "name": "ipython",
    "version": 3
   },
   "file_extension": ".py",
   "mimetype": "text/x-python",
   "name": "python",
   "nbconvert_exporter": "python",
   "pygments_lexer": "ipython3",
   "version": "3.7.10"
  }
 },
 "nbformat": 4,
 "nbformat_minor": 4
}
